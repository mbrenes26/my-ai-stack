{
 "cells": [
  {
   "cell_type": "markdown",
   "id": "4cc7f5ec",
   "metadata": {},
   "source": [
    "\n",
    "### Q1: How would you convert the list below into a NumPy array?\n",
    "```python\n",
    "sample_list = [101, 102, 103, 104, 105, 106, 107, 108, 109, 110]\n",
    "```\n",
    "**Correct Answer:**\n",
    "```python\n",
    "numpy.array(sample_list)\n",
    "```\n"
   ]
  },
  {
   "cell_type": "markdown",
   "id": "52acd7b3",
   "metadata": {},
   "source": [
    "\n",
    "### Q2: What is the output of the following Python code?\n",
    "```python\n",
    "import numpy as np\n",
    "array = np.array([4, 9, 16, 25])\n",
    "type(array)\n",
    "```\n",
    "**Correct Answer:**\n",
    "```\n",
    "numpy.ndarray\n",
    "```\n"
   ]
  },
  {
   "cell_type": "markdown",
   "id": "60c68cd8",
   "metadata": {},
   "source": [
    "\n",
    "### Q3: What will be the output of the following code?\n",
    "```python\n",
    "import numpy as np\n",
    "sports = ['Cricket', 'Football', 'Tennis', 'Golf', 'Baseball']\n",
    "sports_new = np.array(sports)\n",
    "print(sports_new)\n",
    "```\n",
    "**Correct Answer:**\n",
    "```\n",
    "['Cricket' 'Football' 'Tennis' 'Golf' 'Baseball']\n",
    "```\n",
    "NumPy prints string arrays without commas, separating elements by spaces inside square brackets.\n"
   ]
  }
 ],
 "metadata": {},
 "nbformat": 4,
 "nbformat_minor": 5
}
