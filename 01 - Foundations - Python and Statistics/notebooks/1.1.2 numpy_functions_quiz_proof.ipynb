{
 "cells": [
  {
   "cell_type": "markdown",
   "id": "9ae5e9f6",
   "metadata": {},
   "source": [
    "\n",
    "### Q1: np.arange(0, 20, 3)\n",
    "```python\n",
    "import numpy as np\n",
    "arr1 = np.arange(0, 20, 3)\n",
    "arr1\n",
    "```\n",
    "**Output:**\n",
    "```\n",
    "array([ 0,  3,  6,  9, 12, 15, 18])\n",
    "```\n"
   ]
  },
  {
   "cell_type": "markdown",
   "id": "9098da7f",
   "metadata": {},
   "source": [
    "\n",
    "### Q2: np.linspace(10, 20, 10)\n",
    "```python\n",
    "import numpy as np\n",
    "matrix = np.linspace(10, 20, 10)\n",
    "matrix\n",
    "```\n",
    "**Output:**\n",
    "```\n",
    "array([10.        , 11.11111111, 12.22222222, 13.33333333, 14.44444444,\n",
    "       15.55555556, 16.66666667, 17.77777778, 18.88888889, 20.        ])\n",
    "```\n"
   ]
  }
 ],
 "metadata": {},
 "nbformat": 4,
 "nbformat_minor": 5
}
